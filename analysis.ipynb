{
 "cells": [
  {
   "cell_type": "code",
   "execution_count": 65,
   "metadata": {},
   "outputs": [],
   "source": [
    "import pandas as pd\n",
    "import numpy as np\n",
    "from functools import reduce"
   ]
  },
  {
   "cell_type": "code",
   "execution_count": 56,
   "metadata": {},
   "outputs": [],
   "source": [
    "data_path = 'novel_corona_virus_2019_dataset/time_series_covid_19_'\n",
    "csv_paths_alias = ('confirmed', 'deaths', 'recovered')\n",
    "pivot_keys = ('Province/State', 'Country/Region', 'Lat', 'Long')\n",
    "table_keys = ('Province/State', 'Country/Region', 'Lat', 'Long', 'Date')"
   ]
  },
  {
   "cell_type": "code",
   "execution_count": 58,
   "metadata": {},
   "outputs": [],
   "source": [
    "def pivot_table(dataset, variable_new_name, value_new_name):\n",
    "    pivoted_dataset = pd.melt(dataset, pivot_keys)\n",
    "    pivoted_dataset = pivoted_dataset.rename(columns={'variable': variable_new_name, \n",
    "                                                      'value': value_new_name})\n",
    "    return pivoted_dataset"
   ]
  },
  {
   "cell_type": "code",
   "execution_count": 62,
   "metadata": {},
   "outputs": [],
   "source": [
    "datasets = []\n",
    "\n",
    "for alias in csv_paths_alias:\n",
    "    dataset = pd.read_csv(data_path + alias + '.csv')\n",
    "    pivoted = pivot_table(dataset, 'Date', 'Number of {} cases'.format(alias))\n",
    "    datasets.append(pivoted)"
   ]
  },
  {
   "cell_type": "code",
   "execution_count": 63,
   "metadata": {},
   "outputs": [],
   "source": [
    "def merge_tables(left, right, keys=table_keys, join='outer'):\n",
    "    return pd.merge(left, right, on=keys, how=join)"
   ]
  },
  {
   "cell_type": "code",
   "execution_count": 78,
   "metadata": {},
   "outputs": [],
   "source": [
    "merged = reduce(merge_tables, datasets)"
   ]
  },
  {
   "cell_type": "code",
   "execution_count": 82,
   "metadata": {},
   "outputs": [],
   "source": [
    "merged.fillna(value={'Number of confirmed cases': 0, \n",
    "                     'Number of deaths cases': 0, \n",
    "                     'Number of recovered cases': 0}, inplace=True)"
   ]
  },
  {
   "cell_type": "code",
   "execution_count": 83,
   "metadata": {},
   "outputs": [],
   "source": [
    "merged = merged.astype({'Number of confirmed cases': 'int', \n",
    "                        'Number of deaths cases': 'int', \n",
    "                        'Number of recovered cases': 'int'})"
   ]
  },
  {
   "cell_type": "code",
   "execution_count": 88,
   "metadata": {},
   "outputs": [],
   "source": [
    "merged['Date'] = pd.to_datetime(merged.Date, format='%m/%d/%y')"
   ]
  },
  {
   "cell_type": "code",
   "execution_count": 90,
   "metadata": {},
   "outputs": [],
   "source": [
    "merged.to_csv('dataset/global_covid_19_time_series.csv')"
   ]
  }
 ],
 "metadata": {
  "kernelspec": {
   "display_name": "Python 3.7.6 64-bit ('base': conda)",
   "language": "python",
   "name": "python37664bitbasecondaec126aa0c77e42d49e9618db2a0d19bc"
  },
  "language_info": {
   "codemirror_mode": {
    "name": "ipython",
    "version": 3
   },
   "file_extension": ".py",
   "mimetype": "text/x-python",
   "name": "python",
   "nbconvert_exporter": "python",
   "pygments_lexer": "ipython3",
   "version": "3.7.6"
  }
 },
 "nbformat": 4,
 "nbformat_minor": 4
}
